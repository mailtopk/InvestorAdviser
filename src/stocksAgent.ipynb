{
 "cells": [
  {
   "cell_type": "code",
   "execution_count": 1,
   "metadata": {},
   "outputs": [],
   "source": [
    "import os\n",
    "import yfinance as yf\n",
    "from langchain.tools import BaseTool\n",
    "from typing import Any, Type\n",
    "from pydantic import BaseModel, Field\n",
    "#from langchain.tools.render import format_tool_to_openai_function\n",
    "from langchain.agents import initialize_agent\n",
    "from typing import Optional\n",
    "from langchain.chat_models import ChatOpenAI\n",
    "from langchain.agents import AgentType\n"
   ]
  },
  {
   "cell_type": "code",
   "execution_count": 44,
   "metadata": {},
   "outputs": [
    {
     "data": {
      "text/plain": [
       "193.58"
      ]
     },
     "execution_count": 44,
     "metadata": {},
     "output_type": "execute_result"
    }
   ],
   "source": [
    "def get_stock_price(stock_ticker):   \n",
    "    ticker = yf.Ticker(ticker=stock_ticker)\n",
    "    current_price = ticker.history(period=\"1d\")\n",
    "    return round(current_price['Close'].iloc[-1], 2)\n",
    "\n",
    "# Test the function\n",
    "get_stock_price('AAPL')"
   ]
  },
  {
   "cell_type": "code",
   "execution_count": 3,
   "metadata": {},
   "outputs": [],
   "source": [
    "def get_recommendations(recommend_stock_ticker):\n",
    "     company = yf.Ticker(ticker=recommend_stock_ticker)\n",
    "     return company.info['recommendationKey']\n"
   ]
  },
  {
   "cell_type": "markdown",
   "metadata": {},
   "source": [
    "#### Test recommendations "
   ]
  },
  {
   "cell_type": "code",
   "execution_count": null,
   "metadata": {},
   "outputs": [],
   "source": [
    "# Test on 12/2023\n",
    "print(get_recommendations('AAPL'))\n",
    "print(get_recommendations('SHOP'))\n",
    "\n",
    "print(get_recommendations('MO'))\n",
    "print(get_recommendations('BYN')) #Banyan Acquisition Corp\n",
    "#underperform, buy, hold"
   ]
  },
  {
   "cell_type": "code",
   "execution_count": 25,
   "metadata": {},
   "outputs": [],
   "source": [
    "class StockPriceCheckInput(BaseModel):\n",
    "    \"\"\"Input to check Stock price.\"\"\"\n",
    "\n",
    "    stock_ticker: str = Field(description=\"Ticker symbol for stock\")"
   ]
  },
  {
   "cell_type": "code",
   "execution_count": 27,
   "metadata": {},
   "outputs": [],
   "source": [
    "class StockPriceTool(BaseTool):\n",
    "    name = \"get_stock_price\"\n",
    "    description = \"\"\"\n",
    "    Useful to find the stock price of a company and also suggest to buy number of stocks if asked. You should input the stock ticker.\n",
    "    \"\"\"\n",
    "    \n",
    "    def _run(self, stock_ticker: str):\n",
    "        stock_price = get_stock_price(stock_ticker)\n",
    "        return stock_price\n",
    "\n",
    "    def _arun(self, stock_ticker: str):\n",
    "        raise NotImplementedError()  \n",
    "    \n",
    "    args_schema: Type[BaseModel] = StockPriceCheckInput   "
   ]
  },
  {
   "cell_type": "code",
   "execution_count": 29,
   "metadata": {},
   "outputs": [],
   "source": [
    "class RecommendationStockInput(BaseModel):\n",
    "    \"\"\"Input to the stock recommendations\"\"\"\n",
    "\n",
    "    recommend_stock_ticker: str = Field(description=\"Ticker symbol for stock\")"
   ]
  },
  {
   "cell_type": "code",
   "execution_count": 30,
   "metadata": {},
   "outputs": [],
   "source": [
    "class RecommendationStockTool(BaseTool):\n",
    "    name = \"get_recommendations\"\n",
    "    description = \"Useful to find recommendations to buy, hold if you have stocks or not to buy, You should input the stock ticker which is used by yahoo finance API\"\n",
    "    \n",
    "    def _run(self, recommend_stock_ticker: str):\n",
    "        stock_recommended_to_buy = get_recommendations(recommend_stock_ticker)\n",
    "        return stock_recommended_to_buy\n",
    "\n",
    "    def _arun(self, recommend_stock_ticker: str):\n",
    "        raise NotImplementedError()  \n",
    "    \n",
    "    args_schema: Type[BaseModel] = RecommendationStockInput   "
   ]
  },
  {
   "cell_type": "markdown",
   "metadata": {},
   "source": [
    "### Tools as openAI functions"
   ]
  },
  {
   "cell_type": "code",
   "execution_count": 31,
   "metadata": {},
   "outputs": [],
   "source": [
    "stock_tools = [StockPriceTool(), RecommendationStockTool()]"
   ]
  },
  {
   "cell_type": "markdown",
   "metadata": {},
   "source": [
    "### Langchain Agent"
   ]
  },
  {
   "cell_type": "code",
   "execution_count": 45,
   "metadata": {},
   "outputs": [],
   "source": [
    "from langchain.schema import SystemMessage\n",
    "llm = ChatOpenAI( api_key=os.environ['API_Key'], \n",
    "                   temperature=0 )\n",
    "\n",
    "agent_kwargs = {\n",
    "    \"system_message\": SystemMessage(content=\"You'er stock broker analyze the stock using tools and recommend to buy. You can access the tools.\")\n",
    "}\n",
    "\n",
    "# Add prompt\n",
    "open_ai_agent = initialize_agent(\n",
    "                    tools = stock_tools, \n",
    "                    model = 'gpt-3.5-turbo',\n",
    "                    llm=llm, \n",
    "                    agent = AgentType.OPENAI_MULTI_FUNCTIONS, \n",
    "                    agent_kwargs = agent_kwargs,\n",
    "                    max_iterations = 2,\n",
    "                    verbose=True)"
   ]
  },
  {
   "cell_type": "markdown",
   "metadata": {},
   "source": [
    "### Get stock price.\n",
    "LLM's are smart to convert company name to stock ticker"
   ]
  },
  {
   "cell_type": "code",
   "execution_count": 33,
   "metadata": {},
   "outputs": [
    {
     "name": "stdout",
     "output_type": "stream",
     "text": [
      "\n",
      "\n",
      "\u001b[1m> Entering new AgentExecutor chain...\u001b[0m\n",
      "\u001b[32;1m\u001b[1;3m\n",
      "Invoking: `get_stock_price` with `{'stock_ticker': 'AMZN'}`\n",
      "\n",
      "\n",
      "\u001b[0m\u001b[36;1m\u001b[1;3m153.38\u001b[0m\u001b[32;1m\u001b[1;3mThe latest price of Amazon stock is $153.38.\u001b[0m\n",
      "\n",
      "\u001b[1m> Finished chain.\u001b[0m\n",
      "The latest price of Amazon stock is $153.38.\n"
     ]
    }
   ],
   "source": [
    "agent_results = open_ai_agent.run(\"what is the latest price of Amazon stock\")\n",
    "print(agent_results)"
   ]
  },
  {
   "cell_type": "markdown",
   "metadata": {},
   "source": [
    "### Get recommendation from LLM to buy a stock.\n",
    "LLM's will be using yahoo finance api's recommendation"
   ]
  },
  {
   "cell_type": "code",
   "execution_count": 49,
   "metadata": {},
   "outputs": [
    {
     "name": "stdout",
     "output_type": "stream",
     "text": [
      "\n",
      "\n",
      "\u001b[1m> Entering new AgentExecutor chain...\u001b[0m\n",
      "\u001b[32;1m\u001b[1;3m\n",
      "Invoking: `get_stock_price` with `{'stock_ticker': 'BYND'}`\n",
      "\n",
      "\n",
      "\u001b[0m\u001b[36;1m\u001b[1;3m8.72\u001b[0m\u001b[32;1m\u001b[1;3m\n",
      "Invoking: `get_recommendations` with `{'recommend_stock_ticker': 'BYND'}`\n",
      "\n",
      "\n",
      "\u001b[0m\u001b[33;1m\u001b[1;3munderperform\u001b[0m\u001b[32;1m\u001b[1;3mThe latest stock price of Beyond Meat, Inc (BYND) is $8.72. However, based on the recommendations, it is suggested to \"underperform\" this stock. Therefore, it is not recommended to buy Beyond Meat, Inc at the moment.\u001b[0m\n",
      "\n",
      "\u001b[1m> Finished chain.\u001b[0m\n"
     ]
    },
    {
     "data": {
      "text/plain": [
       "'The latest stock price of Beyond Meat, Inc (BYND) is $8.72. However, based on the recommendations, it is suggested to \"underperform\" this stock. Therefore, it is not recommended to buy Beyond Meat, Inc at the moment.'"
      ]
     },
     "execution_count": 49,
     "metadata": {},
     "output_type": "execute_result"
    }
   ],
   "source": [
    "agent_results = open_ai_agent.run(\"what is the latest stock price of Beyond Meat, Inc, is it recommended to buy ?\")\n",
    "agent_results"
   ]
  },
  {
   "cell_type": "markdown",
   "metadata": {},
   "source": [
    "### Number of stocks you can buy\n",
    "Check to see if LLM can suggest the number of stocks to buy"
   ]
  },
  {
   "cell_type": "code",
   "execution_count": 50,
   "metadata": {},
   "outputs": [
    {
     "name": "stdout",
     "output_type": "stream",
     "text": [
      "\n",
      "\n",
      "\u001b[1m> Entering new AgentExecutor chain...\u001b[0m\n",
      "\u001b[32;1m\u001b[1;3m\n",
      "Invoking: `get_stock_price` with `{'stock_ticker': 'AAPL'}`\n",
      "\n",
      "\n",
      "\u001b[0m\u001b[36;1m\u001b[1;3m193.58\u001b[0m\u001b[32;1m\u001b[1;3m\n",
      "Invoking: `get_recommendations` with `{'recommend_stock_ticker': 'AAPL'}`\n",
      "\n",
      "\n",
      "\u001b[0m\u001b[33;1m\u001b[1;3mbuy\u001b[0m\u001b[32;1m\u001b[1;3mThe current price of Apple stock (AAPL) is $193.58. With an investment of $5000, you can buy approximately 25 shares of Apple stock.\n",
      "\n",
      "As for the recommendation, the tool suggests buying Apple stock.\u001b[0m\n",
      "\n",
      "\u001b[1m> Finished chain.\u001b[0m\n"
     ]
    },
    {
     "data": {
      "text/plain": [
       "'The current price of Apple stock (AAPL) is $193.58. With an investment of $5000, you can buy approximately 25 shares of Apple stock.\\n\\nAs for the recommendation, the tool suggests buying Apple stock.'"
      ]
     },
     "execution_count": 50,
     "metadata": {},
     "output_type": "execute_result"
    }
   ],
   "source": [
    "agent_results = open_ai_agent.run(\"I am planning to invest $5000 in apple stock, how may stocks can I buy and is it recommended to invest in apple stocks\")\n",
    "agent_results"
   ]
  },
  {
   "cell_type": "markdown",
   "metadata": {},
   "source": [
    "Without prompt, \n",
    "\n",
    "{input} : I am planning to invest $5000 in apple stock, how may stocks can I buy and is it recommended to invest in apple stocks\n",
    "\n",
    "'The current price of Apple stock (AAPL) is $193.6. With an investment of $5000, you can buy approximately 25.84 shares of Apple stock.\\n\\nAs for the recommendation, the tool suggests buying Apple stock.'\n",
    "\n",
    "With prompting\n",
    "\n",
    "{input}: I am planning to invest $5000 in apple stock, how may stocks can I buy and is it recommended to invest in apple stocks\n",
    "\n",
    "'The current price of Apple stock (AAPL) is $193.58. With an investment of $5000, you can buy approximately 25 shares of Apple stock.\\n\\nAs for the recommendation, the tool suggests buying Apple stock.'"
   ]
  },
  {
   "cell_type": "markdown",
   "metadata": {},
   "source": [
    "### Invest money and check how may stock to buy"
   ]
  },
  {
   "cell_type": "code",
   "execution_count": 51,
   "metadata": {},
   "outputs": [
    {
     "name": "stdout",
     "output_type": "stream",
     "text": [
      "\n",
      "\n",
      "\u001b[1m> Entering new AgentExecutor chain...\u001b[0m\n"
     ]
    },
    {
     "name": "stdout",
     "output_type": "stream",
     "text": [
      "\u001b[32;1m\u001b[1;3m\n",
      "Invoking: `get_recommendations` with `{'recommend_stock_ticker': 'AAPL'}`\n",
      "\n",
      "\n",
      "\u001b[0m\u001b[33;1m\u001b[1;3mbuy\u001b[0m\u001b[32;1m\u001b[1;3m\n",
      "Invoking: `get_stock_price` with `{'stock_ticker': 'AAPL'}`\n",
      "\n",
      "\n",
      "\u001b[0m\u001b[36;1m\u001b[1;3m193.58\u001b[0m\u001b[32;1m\u001b[1;3mBased on the recommendation, it is recommended to buy Apple (AAPL) stock. The current price of Apple stock is $193.58.\n",
      "\n",
      "To calculate how much you need to invest for 25 stocks, you can multiply the stock price by the number of stocks:\n",
      "\n",
      "Investment amount = Stock price * Number of stocks\n",
      "Investment amount = $193.58 * 25\n",
      "Investment amount = $4,839.50\n",
      "\n",
      "Therefore, you would need to invest approximately $4,839.50 for 25 stocks of Apple.\u001b[0m\n",
      "\n",
      "\u001b[1m> Finished chain.\u001b[0m\n"
     ]
    }
   ],
   "source": [
    "agent_results = open_ai_agent.run(\"Is it recommended to buy apple stock ? if so how much do I need to invest for 25 stocks\")"
   ]
  },
  {
   "cell_type": "code",
   "execution_count": 52,
   "metadata": {},
   "outputs": [
    {
     "name": "stdout",
     "output_type": "stream",
     "text": [
      "Based on the recommendation, it is recommended to buy Apple (AAPL) stock. The current price of Apple stock is $193.58.\n",
      "\n",
      "To calculate how much you need to invest for 25 stocks, you can multiply the stock price by the number of stocks:\n",
      "\n",
      "Investment amount = Stock price * Number of stocks\n",
      "Investment amount = $193.58 * 25\n",
      "Investment amount = $4,839.50\n",
      "\n",
      "Therefore, you would need to invest approximately $4,839.50 for 25 stocks of Apple.\n"
     ]
    }
   ],
   "source": [
    "print(agent_results)"
   ]
  },
  {
   "cell_type": "markdown",
   "metadata": {},
   "source": [
    "### Try to buy underperformed stock"
   ]
  },
  {
   "cell_type": "code",
   "execution_count": 53,
   "metadata": {},
   "outputs": [
    {
     "name": "stdout",
     "output_type": "stream",
     "text": [
      "\n",
      "\n",
      "\u001b[1m> Entering new AgentExecutor chain...\u001b[0m\n",
      "\u001b[32;1m\u001b[1;3m\n",
      "Invoking: `get_recommendations` with `{'recommend_stock_ticker': 'BYND'}`\n",
      "\n",
      "\n",
      "\u001b[0m\u001b[33;1m\u001b[1;3munderperform\u001b[0m\u001b[32;1m\u001b[1;3m\n",
      "Invoking: `get_stock_price` with `{'stock_ticker': 'BYND'}`\n",
      "\n",
      "\n",
      "\u001b[0m\u001b[36;1m\u001b[1;3m8.72\u001b[0m\u001b[32;1m\u001b[1;3mBased on the recommendation, the stock for 'Beyond Meat, Inc' (BYND) is currently rated as \"underperform\". \n",
      "\n",
      "The current stock price for BYND is $8.72.\n",
      "\n",
      "Since the stock is rated as underperform, it may not be recommended to invest in this stock at the moment. However, the final decision is up to you. If you still want to invest $1000 in BYND, you can calculate the number of shares you can buy by dividing the investment amount by the stock price:\n",
      "\n",
      "Number of shares = $1000 / $8.72 = 114.68\n",
      "\n",
      "Since you cannot buy fractional shares, you can buy a maximum of 114 shares of BYND with your $1000 investment.\u001b[0m\n",
      "\n",
      "\u001b[1m> Finished chain.\u001b[0m\n"
     ]
    },
    {
     "data": {
      "text/plain": [
       "'Based on the recommendation, the stock for \\'Beyond Meat, Inc\\' (BYND) is currently rated as \"underperform\". \\n\\nThe current stock price for BYND is $8.72.\\n\\nSince the stock is rated as underperform, it may not be recommended to invest in this stock at the moment. However, the final decision is up to you. If you still want to invest $1000 in BYND, you can calculate the number of shares you can buy by dividing the investment amount by the stock price:\\n\\nNumber of shares = $1000 / $8.72 = 114.68\\n\\nSince you cannot buy fractional shares, you can buy a maximum of 114 shares of BYND with your $1000 investment.'"
      ]
     },
     "execution_count": 53,
     "metadata": {},
     "output_type": "execute_result"
    }
   ],
   "source": [
    "agent_results = open_ai_agent.run(\"I am planning to invest $1000 in 'Beyond Meat, Inc' stock, is it recommended to invest in these stock if so how many can I buy\")\n",
    "agent_results"
   ]
  },
  {
   "cell_type": "code",
   "execution_count": 54,
   "metadata": {},
   "outputs": [
    {
     "name": "stdout",
     "output_type": "stream",
     "text": [
      "Based on the recommendation, the stock for 'Beyond Meat, Inc' (BYND) is currently rated as \"underperform\". \n",
      "\n",
      "The current stock price for BYND is $8.72.\n",
      "\n",
      "Since the stock is rated as underperform, it may not be recommended to invest in this stock at the moment. However, the final decision is up to you. If you still want to invest $1000 in BYND, you can calculate the number of shares you can buy by dividing the investment amount by the stock price:\n",
      "\n",
      "Number of shares = $1000 / $8.72 = 114.68\n",
      "\n",
      "Since you cannot buy fractional shares, you can buy a maximum of 114 shares of BYND with your $1000 investment.\n"
     ]
    }
   ],
   "source": [
    "print(agent_results)"
   ]
  }
 ],
 "metadata": {
  "kernelspec": {
   "display_name": "gorlenv",
   "language": "python",
   "name": "python3"
  },
  "language_info": {
   "codemirror_mode": {
    "name": "ipython",
    "version": 3
   },
   "file_extension": ".py",
   "mimetype": "text/x-python",
   "name": "python",
   "nbconvert_exporter": "python",
   "pygments_lexer": "ipython3",
   "version": "3.11.3"
  }
 },
 "nbformat": 4,
 "nbformat_minor": 2
}
