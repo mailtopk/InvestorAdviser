{
 "cells": [
  {
   "cell_type": "code",
   "execution_count": 1,
   "metadata": {},
   "outputs": [],
   "source": [
    "import os\n",
    "import yfinance as yf\n",
    "from langchain.tools import BaseTool\n",
    "from typing import Any, Type\n",
    "from pydantic import BaseModel, Field\n",
    "#from langchain.agents import initialize_agent\n",
    "from typing import Optional\n",
    "from langchain.chat_models import ChatOpenAI\n",
    "from langchain.agents import AgentType\n",
    "from langchain.prompts import ChatPromptTemplate, MessagesPlaceholder\n",
    "from langchain.agents.output_parsers import OpenAIFunctionsAgentOutputParser\n",
    "from langchain.agents import AgentExecutor\n",
    "from langchain.agents import tool\n",
    "#from langchain.schema import SystemMessage\n",
    "from langchain_community.tools.convert_to_openai import format_tool_to_openai_function\n",
    "from langchain_core.runnables import RunnablePassthrough, RunnableLambda\n",
    "from operator import itemgetter\n",
    "from langchain.agents.format_scratchpad import format_to_openai_function_messages\n",
    "from langchain.memory import ConversationBufferMemory\n",
    "from langchain.memory import ConversationEntityMemory\n",
    "from langchain.chains import ConversationChain\n",
    "from langchain.memory.prompt import ENTITY_MEMORY_CONVERSATION_TEMPLATE\n",
    "\n"
   ]
  },
  {
   "cell_type": "markdown",
   "metadata": {},
   "source": [
    "### Get Stock Price from yahoo finance - pydantic"
   ]
  },
  {
   "cell_type": "code",
   "execution_count": 2,
   "metadata": {},
   "outputs": [],
   "source": [
    "class StockPriceCheckInput(BaseModel):\n",
    "    \"\"\"Input to check Stock price.\"\"\"\n",
    "\n",
    "    stock_ticker: str = Field(description=\"Ticker symbol for stock\")\n",
    "    \n",
    "class StockPriceTool(BaseTool):\n",
    "    name = \"StockPriceTool\"\n",
    "    description = \"\"\"\n",
    "    Useful to find the stock price.\n",
    "    \"\"\"\n",
    "    def _run(self, stock_ticker: str):\n",
    "        ticker = yf.Ticker(ticker=stock_ticker)\n",
    "        current_price = ticker.history(period=\"1d\")\n",
    "        return round(current_price['Close'].iloc[-1], 2)\n",
    "\n",
    "    def _arun(self, stock_ticker: str):\n",
    "        raise NotImplementedError()  \n",
    "    \n",
    "    args_schema: Type[BaseModel] = StockPriceCheckInput   "
   ]
  },
  {
   "cell_type": "markdown",
   "metadata": {},
   "source": [
    "### Recommendations from Yahoo finance - pydantic "
   ]
  },
  {
   "cell_type": "code",
   "execution_count": 3,
   "metadata": {},
   "outputs": [],
   "source": [
    "class RecommendationStockInput(BaseModel):\n",
    "    \"\"\"Input to the stock recommendations\"\"\"\n",
    "    recommend_stock_ticker: str = Field(description=\"Ticker symbol for stock\")\n",
    "    \n",
    "class RecommendationStockTool(BaseTool):\n",
    "    name = \"RecommendationStockTool\"\n",
    "    description = \"Useful to find recommendations to buy or hold if you have stocks,  if underperformed, not recommended. You should input the stock ticker which is used by yahoo finance API\"\n",
    "    \n",
    "    def _run(self, recommend_stock_ticker: str):\n",
    "     company = yf.Ticker(ticker=recommend_stock_ticker)\n",
    "     return company.info['recommendationKey']\n",
    "\n",
    "    def _arun(self, recommend_stock_ticker: str):\n",
    "        raise NotImplementedError()  \n",
    "    \n",
    "    args_schema: Type[BaseModel] = RecommendationStockInput   "
   ]
  },
  {
   "cell_type": "markdown",
   "metadata": {},
   "source": [
    "### Tools as openAI functions"
   ]
  },
  {
   "cell_type": "code",
   "execution_count": 7,
   "metadata": {},
   "outputs": [],
   "source": [
    "stock_tools = [StockPriceTool(), RecommendationStockTool()]"
   ]
  },
  {
   "cell_type": "markdown",
   "metadata": {},
   "source": [
    "### Model, Prompt, Agent and executor"
   ]
  },
  {
   "cell_type": "code",
   "execution_count": 12,
   "metadata": {},
   "outputs": [],
   "source": [
    "from langchain.chains import LLMChain\n",
    "llm = ChatOpenAI( api_key=os.environ['API_Key'],\n",
    "                   temperature=0, max_retries=2).bind(functions = [format_tool_to_openai_function(f) for f in stock_tools])\n",
    "\n",
    "#memory_llm = ChatOpenAI( api_key=os.environ['API_Key'],  model='gpt-3.5-turbo')\n",
    "\n",
    "prompt = ChatPromptTemplate.from_messages([\n",
    "    (\"system\", \"\"\"\n",
    "        You are a stock broker, help user's to get latest stock prices and recommendation to buy as of current date.\n",
    "        You can also calculate the number of to buy or sell if user want to invest x amount of dollars.\n",
    "     \"\"\"),\n",
    "    (\"user\", \"{user_input}\"),\n",
    "    MessagesPlaceholder(variable_name = \"agent_notepad\")\n",
    "])\n",
    "\n",
    "# memory_buffer = ConversationBufferMemory( llm=memory_llm, memory_key=\"chat_history\", \n",
    "#                           return_messages=True, output_key=\"output\")\n",
    "\n",
    "# conversation_with_memory = ConversationChain (\n",
    "#     llm=memory_llm, \n",
    "#     verbose=True,\n",
    "#     prompt=ENTITY_MEMORY_CONVERSATION_TEMPLATE,\n",
    "#     memory=ConversationEntityMemory(llm=memory_llm, return_messages=True),\n",
    "#     output_key=\"output\"\n",
    "# )\n",
    "\n",
    "agent =({\n",
    "        \"user_input\" : lambda x: x[\"input\"],\n",
    "        \"agent_notepad\": lambda x: format_to_openai_function_messages( x[\"intermediate_steps\"]),\n",
    "        #\"chat_history\": lambda x: x[\"chat_history\"]\n",
    "        }\n",
    "        | prompt\n",
    "        | llm\n",
    "        | OpenAIFunctionsAgentOutputParser()\n",
    "    )\n",
    "\n",
    "open_ai_agent = AgentExecutor.from_agent_and_tools(agent=agent, \n",
    "                              tools=stock_tools, \n",
    "                              return_intermediate_steps=True, \n",
    "                              #memory=conversation_with_memory,\n",
    "                              verbose=False, \n",
    "                              handle_parsing_errors=True)\n"
   ]
  },
  {
   "cell_type": "markdown",
   "metadata": {},
   "source": [
    "### Get latest stock price"
   ]
  },
  {
   "cell_type": "code",
   "execution_count": 80,
   "metadata": {},
   "outputs": [],
   "source": [
    "result_stock_price = open_ai_agent.invoke({\"input\" : \"what is the latest price of Amazon stock\"})"
   ]
  },
  {
   "cell_type": "markdown",
   "metadata": {},
   "source": [
    "### Without tools\n",
    "\n",
    "```\n",
    "{'input': 'what is the latest price of Amazon stock',\n",
    " 'output': 'To provide you with the latest price of Amazon stock, I need to access real-time data. However, I can guide you on how to check the current stock price yourself.\\n\\nYou can check the latest price of Amazon stock by visiting a financial website or using a stock market app. Some popular options include:\\n\\n1. Google Finance: Go to the Google Finance website and search for \"Amazon stock price.\"\\n2. Yahoo Finance: Visit the Yahoo Finance website and search for \"Amazon stock price.\"\\n3. Bloomberg: Access the Bloomberg website or app and search for \"AMZN\" (Amazon\\'s stock ticker symbol) to find the current price.\\n\\nPlease note that stock prices can fluctuate throughout the trading day, so the price you see may not be the most up-to-date.',\n",
    " 'intermediate_steps': []}\n",
    " ```\n",
    "\n",
    " ### With support of tools\n",
    "\n",
    " ```{'input': 'what is the latest price of Amazon stock',\n",
    " 'output': 'The latest price of Amazon stock is $155.34.',\n",
    " 'intermediate_steps': [(AgentActionMessageLog(tool='StockPriceTool', tool_input={'stock_ticker': 'AMZN'}, log=\"\\nInvoking: `StockPriceTool` with `{'stock_ticker': 'AMZN'}`\\n\\n\\n\", message_log=[AIMessage(content='', additional_kwargs={'function_call': {'name': 'StockPriceTool', 'arguments': '{\\n  \"stock_ticker\": \"AMZN\"\\n}'}})]),\n",
    "   155.34)]}```"
   ]
  },
  {
   "cell_type": "code",
   "execution_count": 81,
   "metadata": {},
   "outputs": [
    {
     "data": {
      "text/plain": [
       "{'input': 'what is the latest price of Amazon stock',\n",
       " 'chat_history': [HumanMessage(content='what is the latest price of Amazon stock'),\n",
       "  AIMessage(content='The latest price of Amazon stock is $155.34.')],\n",
       " 'output': 'The latest price of Amazon stock is $155.34.',\n",
       " 'intermediate_steps': [(AgentActionMessageLog(tool='StockPriceTool', tool_input={'stock_ticker': 'AMZN'}, log=\"\\nInvoking: `StockPriceTool` with `{'stock_ticker': 'AMZN'}`\\n\\n\\n\", message_log=[AIMessage(content='', additional_kwargs={'function_call': {'name': 'StockPriceTool', 'arguments': '{\\n  \"stock_ticker\": \"AMZN\"\\n}'}})]),\n",
       "   155.34)]}"
      ]
     },
     "execution_count": 81,
     "metadata": {},
     "output_type": "execute_result"
    }
   ],
   "source": [
    "result_stock_price"
   ]
  },
  {
   "cell_type": "code",
   "execution_count": 57,
   "metadata": {},
   "outputs": [
    {
     "data": {
      "text/plain": [
       "'The latest price of Amazon stock is $155.34.'"
      ]
     },
     "execution_count": 57,
     "metadata": {},
     "output_type": "execute_result"
    }
   ],
   "source": [
    "result_stock_price['output']"
   ]
  },
  {
   "cell_type": "code",
   "execution_count": 53,
   "metadata": {},
   "outputs": [
    {
     "data": {
      "text/plain": [
       "(AgentActionMessageLog(tool='StockPriceTool', tool_input={'stock_ticker': 'AMZN'}, log=\"\\nInvoking: `StockPriceTool` with `{'stock_ticker': 'AMZN'}`\\n\\n\\n\", message_log=[AIMessage(content='', additional_kwargs={'function_call': {'name': 'StockPriceTool', 'arguments': '{\\n  \"stock_ticker\": \"AMZN\"\\n}'}})]),\n",
       " 154.62)"
      ]
     },
     "execution_count": 53,
     "metadata": {},
     "output_type": "execute_result"
    }
   ],
   "source": [
    "result_stock_price['intermediate_steps'][0]"
   ]
  },
  {
   "cell_type": "code",
   "execution_count": 30,
   "metadata": {},
   "outputs": [
    {
     "data": {
      "text/plain": [
       "{'input': 'is it recommended to buy Amazon stock ?',\n",
       " 'output': 'It is recommended to buy Amazon stock.',\n",
       " 'intermediate_steps': [(AgentActionMessageLog(tool='RecommendationStockTool', tool_input={'recommend_stock_ticker': 'AMZN'}, log=\"\\nInvoking: `RecommendationStockTool` with `{'recommend_stock_ticker': 'AMZN'}`\\n\\n\\n\", message_log=[AIMessage(content='', additional_kwargs={'function_call': {'name': 'RecommendationStockTool', 'arguments': '{\\n  \"recommend_stock_ticker\": \"AMZN\"\\n}'}})]),\n",
       "   'buy')]}"
      ]
     },
     "execution_count": 30,
     "metadata": {},
     "output_type": "execute_result"
    }
   ],
   "source": [
    "open_ai_agent.invoke({\"input\" : \"is it recommended to buy Amazon stock ?\"})"
   ]
  },
  {
   "cell_type": "code",
   "execution_count": 82,
   "metadata": {},
   "outputs": [
    {
     "data": {
      "text/plain": [
       "{'input': 'I have $2000, how many stocks I can buy?',\n",
       " 'chat_history': [HumanMessage(content='what is the latest price of Amazon stock'),\n",
       "  AIMessage(content='The latest price of Amazon stock is $155.34.'),\n",
       "  HumanMessage(content='I have $2000, how many stocks I can buy?'),\n",
       "  AIMessage(content='To calculate the number of Amazon stocks you can buy with $2000, we need to know the current price of Amazon stock. Could you please confirm if the latest price of Amazon stock is $155.34?')],\n",
       " 'output': 'To calculate the number of Amazon stocks you can buy with $2000, we need to know the current price of Amazon stock. Could you please confirm if the latest price of Amazon stock is $155.34?',\n",
       " 'intermediate_steps': []}"
      ]
     },
     "execution_count": 82,
     "metadata": {},
     "output_type": "execute_result"
    }
   ],
   "source": [
    "open_ai_agent.invoke({\"input\" : \"I have $2000, how many stocks I can buy?\"})"
   ]
  },
  {
   "cell_type": "markdown",
   "metadata": {},
   "source": [
    "### Get stock ticker."
   ]
  },
  {
   "cell_type": "code",
   "execution_count": 13,
   "metadata": {},
   "outputs": [
    {
     "data": {
      "text/plain": [
       "{'input': 'what is the latest price of Tesla stock',\n",
       " 'output': 'The latest price of Tesla stock is $212.19.',\n",
       " 'intermediate_steps': [(AgentActionMessageLog(tool='StockPriceTool', tool_input={'stock_ticker': 'TSLA'}, log=\"\\nInvoking: `StockPriceTool` with `{'stock_ticker': 'TSLA'}`\\n\\n\\n\", message_log=[AIMessage(content='', additional_kwargs={'function_call': {'name': 'StockPriceTool', 'arguments': '{\\n  \"stock_ticker\": \"TSLA\"\\n}'}})]),\n",
       "   212.19)]}"
      ]
     },
     "execution_count": 13,
     "metadata": {},
     "output_type": "execute_result"
    }
   ],
   "source": [
    "open_ai_agent.invoke({\"input\" : \"what is the latest price of Tesla stock\"})"
   ]
  },
  {
   "cell_type": "markdown",
   "metadata": {},
   "source": [
    "### Get recommendation from LLM to buy a stock."
   ]
  },
  {
   "cell_type": "code",
   "execution_count": 104,
   "metadata": {},
   "outputs": [
    {
     "data": {
      "text/plain": [
       "{'input': 'what is the latest stock price of Beyond Meat, Inc, is it good to buy ?',\n",
       " 'output': 'The latest stock price of Beyond Meat, Inc (BYND) is $8.44. According to the recommendation, the stock is currently underperforming. Therefore, it may not be a good time to buy this stock.',\n",
       " 'intermediate_steps': [(AgentActionMessageLog(tool='StockPriceTool', tool_input={'stock_ticker': 'BYND'}, log=\"\\nInvoking: `StockPriceTool` with `{'stock_ticker': 'BYND'}`\\n\\n\\n\", message_log=[AIMessage(content='', additional_kwargs={'function_call': {'name': 'StockPriceTool', 'arguments': '{\\n  \"stock_ticker\": \"BYND\"\\n}'}})]),\n",
       "   8.44),\n",
       "  (AgentActionMessageLog(tool='RecommendationStockTool', tool_input={'recommend_stock_ticker': 'BYND'}, log=\"\\nInvoking: `RecommendationStockTool` with `{'recommend_stock_ticker': 'BYND'}`\\n\\n\\n\", message_log=[AIMessage(content='', additional_kwargs={'function_call': {'name': 'RecommendationStockTool', 'arguments': '{\\n  \"recommend_stock_ticker\": \"BYND\"\\n}'}})]),\n",
       "   'underperform')]}"
      ]
     },
     "execution_count": 104,
     "metadata": {},
     "output_type": "execute_result"
    }
   ],
   "source": [
    "open_ai_agent.invoke({\"input\":\"what is the latest stock price of Beyond Meat, Inc, is it good to buy ?\"})"
   ]
  },
  {
   "cell_type": "markdown",
   "metadata": {},
   "source": [
    "### Number of stocks you can buy\n",
    "Check to see if LLM can suggest the number of stocks to buy"
   ]
  },
  {
   "cell_type": "code",
   "execution_count": 14,
   "metadata": {},
   "outputs": [
    {
     "data": {
      "text/plain": [
       "{'input': 'I am planning to invest $5000 in apple stock, if recommended I want to buy this company stocks. If so how many stocks I can buy?',\n",
       " 'output': 'The current price of Apple stock is $181.18. To calculate how many stocks you can buy with $5000, divide the total amount by the stock price:\\n\\nNumber of stocks = $5000 / $181.18 = 27.59\\n\\nTherefore, you can buy approximately 27 stocks of Apple with $5000.',\n",
       " 'intermediate_steps': [(AgentActionMessageLog(tool='StockPriceTool', tool_input={'stock_ticker': 'AAPL'}, log=\"\\nInvoking: `StockPriceTool` with `{'stock_ticker': 'AAPL'}`\\n\\n\\n\", message_log=[AIMessage(content='', additional_kwargs={'function_call': {'name': 'StockPriceTool', 'arguments': '{\\n  \"stock_ticker\": \"AAPL\"\\n}'}})]),\n",
       "   181.18)]}"
      ]
     },
     "execution_count": 14,
     "metadata": {},
     "output_type": "execute_result"
    }
   ],
   "source": [
    "open_ai_agent.invoke({\"input\":\"I am planning to invest $5000 in apple stock, if recommended I want to buy this company stocks. If so how many stocks I can buy?\"})"
   ]
  },
  {
   "cell_type": "code",
   "execution_count": 13,
   "metadata": {},
   "outputs": [
    {
     "data": {
      "text/plain": [
       "{'input': 'I am planning to invest $5000 in apple stock, how many stocks can I buy and is it recommended to buy this company stocks?',\n",
       " 'output': 'Based on the latest recommendations, it is recommended to buy Apple (AAPL) stock.',\n",
       " 'intermediate_steps': [(AgentActionMessageLog(tool='StockPriceTool', tool_input={'stock_ticker': 'AAPL'}, log=\"\\nInvoking: `StockPriceTool` with `{'stock_ticker': 'AAPL'}`\\n\\n\\n\", message_log=[AIMessage(content='', additional_kwargs={'function_call': {'name': 'StockPriceTool', 'arguments': '{\\n  \"stock_ticker\": \"AAPL\"\\n}'}})]),\n",
       "   181.18),\n",
       "  (AgentActionMessageLog(tool='RecommendationStockTool', tool_input={'recommend_stock_ticker': 'AAPL'}, log=\"\\nInvoking: `RecommendationStockTool` with `{'recommend_stock_ticker': 'AAPL'}`\\nresponded: The current price of Apple stock (AAPL) is $181.18. To calculate the number of stocks you can buy with $5000, divide the total amount by the stock price:\\n\\nNumber of stocks = $5000 / $181.18 = 27.59 (rounded down to the nearest whole number)\\n\\nTherefore, with $5000, you can buy approximately 27 shares of Apple stock.\\n\\nTo determine if it is recommended to buy Apple stock, let me check the latest recommendations.\\n\\n\", message_log=[AIMessage(content='The current price of Apple stock (AAPL) is $181.18. To calculate the number of stocks you can buy with $5000, divide the total amount by the stock price:\\n\\nNumber of stocks = $5000 / $181.18 = 27.59 (rounded down to the nearest whole number)\\n\\nTherefore, with $5000, you can buy approximately 27 shares of Apple stock.\\n\\nTo determine if it is recommended to buy Apple stock, let me check the latest recommendations.', additional_kwargs={'function_call': {'name': 'RecommendationStockTool', 'arguments': '{\\n  \"recommend_stock_ticker\": \"AAPL\"\\n}'}})]),\n",
       "   'buy')]}"
      ]
     },
     "execution_count": 13,
     "metadata": {},
     "output_type": "execute_result"
    }
   ],
   "source": [
    "open_ai_agent.invoke({\"input\":\"I am planning to invest $5000 in apple stock, how many stocks can I buy and is it recommended to buy this company stocks?\"})"
   ]
  },
  {
   "cell_type": "markdown",
   "metadata": {},
   "source": [
    "### Invest money and check how may stock to buy"
   ]
  },
  {
   "cell_type": "code",
   "execution_count": 108,
   "metadata": {},
   "outputs": [
    {
     "data": {
      "text/plain": [
       "{'input': 'If I want to buy 25 Amazon stock, how much money I need to invest',\n",
       " 'output': 'The current price of Amazon stock is $145.24. If you want to buy 25 Amazon stocks, you would need to invest $3,631.',\n",
       " 'intermediate_steps': [(AgentActionMessageLog(tool='StockPriceTool', tool_input={'stock_ticker': 'AMZN'}, log=\"\\nInvoking: `StockPriceTool` with `{'stock_ticker': 'AMZN'}`\\n\\n\\n\", message_log=[AIMessage(content='', additional_kwargs={'function_call': {'name': 'StockPriceTool', 'arguments': '{\\n  \"stock_ticker\": \"AMZN\"\\n}'}})]),\n",
       "   145.24)]}"
      ]
     },
     "execution_count": 108,
     "metadata": {},
     "output_type": "execute_result"
    }
   ],
   "source": [
    "open_ai_agent.invoke({\"input\" : \"If I want to buy 25 Amazon stock, how much money I need to invest\"})"
   ]
  },
  {
   "cell_type": "code",
   "execution_count": 52,
   "metadata": {},
   "outputs": [
    {
     "name": "stdout",
     "output_type": "stream",
     "text": [
      "Based on the recommendation, it is recommended to buy Apple (AAPL) stock. The current price of Apple stock is $193.58.\n",
      "\n",
      "To calculate how much you need to invest for 25 stocks, you can multiply the stock price by the number of stocks:\n",
      "\n",
      "Investment amount = Stock price * Number of stocks\n",
      "Investment amount = $193.58 * 25\n",
      "Investment amount = $4,839.50\n",
      "\n",
      "Therefore, you would need to invest approximately $4,839.50 for 25 stocks of Apple.\n"
     ]
    }
   ],
   "source": [
    "print(agent_results)"
   ]
  },
  {
   "cell_type": "markdown",
   "metadata": {},
   "source": [
    "### Try to buy underperformed stock"
   ]
  },
  {
   "cell_type": "code",
   "execution_count": 15,
   "metadata": {},
   "outputs": [
    {
     "data": {
      "text/plain": [
       "{'input': \"I am planning to invest $1000 in 'Beyond Meat, Inc', if recommended I want to buy this company stocks, else ignore it.?\",\n",
       " 'output': \"Based on the recommendation, 'Beyond Meat, Inc' (BYND) is currently underperforming. Therefore, it is not recommended to buy stocks of this company at the moment.\",\n",
       " 'intermediate_steps': [(AgentActionMessageLog(tool='RecommendationStockTool', tool_input={'recommend_stock_ticker': 'BYND'}, log=\"\\nInvoking: `RecommendationStockTool` with `{'recommend_stock_ticker': 'BYND'}`\\n\\n\\n\", message_log=[AIMessage(content='', additional_kwargs={'function_call': {'name': 'RecommendationStockTool', 'arguments': '{\\n  \"recommend_stock_ticker\": \"BYND\"\\n}'}})]),\n",
       "   'underperform')]}"
      ]
     },
     "execution_count": 15,
     "metadata": {},
     "output_type": "execute_result"
    }
   ],
   "source": [
    "open_ai_agent.invoke({\"input\":\"I am planning to invest $1000 in 'Beyond Meat, Inc', if recommended I want to buy this company stocks, else ignore it.?\"})"
   ]
  },
  {
   "cell_type": "code",
   "execution_count": 79,
   "metadata": {},
   "outputs": [
    {
     "data": {
      "text/plain": [
       "{'input': \"I am planning to invest $1000 in 'Beyond Meat, Inc' stock, is it recommended to invest in this stock, if so how many can I buy\",\n",
       " 'output': 'Based on the current stock price of Beyond Meat, Inc (BYND) at $8.44, and the recommendation of \"underperform\", it is not recommended to invest in this stock. It is advisable to consider other investment options.',\n",
       " 'intermediate_steps': [(AgentActionMessageLog(tool='StockPriceTool', tool_input={'stock_ticker': 'BYND'}, log=\"\\nInvoking: `StockPriceTool` with `{'stock_ticker': 'BYND'}`\\n\\n\\n\", message_log=[AIMessage(content='', additional_kwargs={'function_call': {'name': 'StockPriceTool', 'arguments': '{\\n  \"stock_ticker\": \"BYND\"\\n}'}})]),\n",
       "   8.44),\n",
       "  (AgentActionMessageLog(tool='RecommendationStockTool', tool_input={'recommend_stock_ticker': 'BYND'}, log=\"\\nInvoking: `RecommendationStockTool` with `{'recommend_stock_ticker': 'BYND'}`\\n\\n\\n\", message_log=[AIMessage(content='', additional_kwargs={'function_call': {'name': 'RecommendationStockTool', 'arguments': '{\\n  \"recommend_stock_ticker\": \"BYND\"\\n}'}})]),\n",
       "   'underperform')]}"
      ]
     },
     "execution_count": 79,
     "metadata": {},
     "output_type": "execute_result"
    }
   ],
   "source": [
    "agent_results = open_ai_agent.invoke({\"input\" : \"I am planning to invest $1000 in 'Beyond Meat, Inc' stock, is it recommended to invest in this stock, if so how many can I buy\"})\n",
    "agent_results"
   ]
  },
  {
   "cell_type": "code",
   "execution_count": 114,
   "metadata": {},
   "outputs": [
    {
     "data": {
      "text/plain": [
       "{'input': 'I have 20 Tesla stocks, which I want to sell. How much money would I get back if i sell it today',\n",
       " 'output': 'The current price of Tesla stock is $237.49. If you sell your 20 Tesla stocks today, you would get back $4,749.80.',\n",
       " 'intermediate_steps': [(AgentActionMessageLog(tool='StockPriceTool', tool_input={'stock_ticker': 'TSLA'}, log=\"\\nInvoking: `StockPriceTool` with `{'stock_ticker': 'TSLA'}`\\n\\n\\n\", message_log=[AIMessage(content='', additional_kwargs={'function_call': {'name': 'StockPriceTool', 'arguments': '{\\n  \"stock_ticker\": \"TSLA\"\\n}'}})]),\n",
       "   237.49)]}"
      ]
     },
     "execution_count": 114,
     "metadata": {},
     "output_type": "execute_result"
    }
   ],
   "source": [
    "open_ai_agent.invoke({\"input\" : \"I have 20 Tesla stocks, which I want to sell. How much money would I get back if i sell it today\"})"
   ]
  },
  {
   "cell_type": "code",
   "execution_count": 119,
   "metadata": {},
   "outputs": [
    {
     "data": {
      "text/plain": [
       "{'input': 'I have 20 Tesla and Apple stocks, which I want to sell. How much money would I get back if i sell it today',\n",
       " 'output': 'The current price of Tesla stock (TSLA) is $237.49 and the current price of Apple stock (AAPL) is $181.18. \\n\\nTo calculate how much money you would get back if you sell your 20 Tesla and Apple stocks, you need to multiply the number of stocks by their respective prices:\\n\\nFor Tesla:\\n20 stocks * $237.49 = $4,749.80\\n\\nFor Apple:\\n20 stocks * $181.18 = $3,623.60\\n\\nTherefore, if you sell your 20 Tesla and Apple stocks today, you would get back a total of $8,373.40.',\n",
       " 'intermediate_steps': [(AgentActionMessageLog(tool='StockPriceTool', tool_input={'stock_ticker': 'TSLA'}, log=\"\\nInvoking: `StockPriceTool` with `{'stock_ticker': 'TSLA'}`\\n\\n\\n\", message_log=[AIMessage(content='', additional_kwargs={'function_call': {'name': 'StockPriceTool', 'arguments': '{\\n  \"stock_ticker\": \"TSLA\"\\n}'}})]),\n",
       "   237.49),\n",
       "  (AgentActionMessageLog(tool='StockPriceTool', tool_input={'stock_ticker': 'AAPL'}, log=\"\\nInvoking: `StockPriceTool` with `{'stock_ticker': 'AAPL'}`\\n\\n\\n\", message_log=[AIMessage(content='', additional_kwargs={'function_call': {'name': 'StockPriceTool', 'arguments': '{\\n  \"stock_ticker\": \"AAPL\"\\n}'}})]),\n",
       "   181.18)]}"
      ]
     },
     "execution_count": 119,
     "metadata": {},
     "output_type": "execute_result"
    }
   ],
   "source": [
    "open_ai_agent.invoke({\"input\" : \"I have 20 Tesla and Apple stocks, which I want to sell. How much money would I get back if i sell it today\"})"
   ]
  }
 ],
 "metadata": {
  "kernelspec": {
   "display_name": "Python 3 (ipykernel)",
   "language": "python",
   "name": "python3"
  }
 },
 "nbformat": 4,
 "nbformat_minor": 2
}
