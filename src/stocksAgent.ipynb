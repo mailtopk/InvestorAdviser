{
 "cells": [
  {
   "cell_type": "code",
   "execution_count": 1,
   "metadata": {},
   "outputs": [],
   "source": [
    "import os\n",
    "import yfinance as yf\n",
    "from langchain.tools import BaseTool\n",
    "from typing import Any, Type\n",
    "from pydantic import BaseModel, Field\n",
    "from langchain.tools.render import format_tool_to_openai_function\n",
    "from langchain.agents import initialize_agent\n",
    "from typing import Optional\n",
    "from langchain.chat_models import ChatOpenAI\n",
    "from langchain.agents import AgentType\n"
   ]
  },
  {
   "cell_type": "code",
   "execution_count": 2,
   "metadata": {},
   "outputs": [
    {
     "data": {
      "text/plain": [
       "193.6"
      ]
     },
     "execution_count": 2,
     "metadata": {},
     "output_type": "execute_result"
    }
   ],
   "source": [
    "def get_stock_price(stock_ticker):   \n",
    "    ticker = yf.Ticker(ticker=stock_ticker)\n",
    "    current_price = ticker.history(period=\"1d\")\n",
    "\n",
    "    return round(current_price['Close'].iloc[-1], 2)\n",
    "\n",
    "# Test the function\n",
    "get_stock_price('AAPL')"
   ]
  },
  {
   "cell_type": "code",
   "execution_count": 3,
   "metadata": {},
   "outputs": [],
   "source": [
    "def get_recommendations(recommend_stock_ticker):\n",
    "     company = yf.Ticker(ticker=recommend_stock_ticker)\n",
    "     return company.info['recommendationKey']\n"
   ]
  },
  {
   "cell_type": "markdown",
   "metadata": {},
   "source": [
    "#### Test recommendations "
   ]
  },
  {
   "cell_type": "code",
   "execution_count": 4,
   "metadata": {},
   "outputs": [
    {
     "name": "stdout",
     "output_type": "stream",
     "text": [
      "buy\n",
      "buy\n",
      "hold\n",
      "underperform\n"
     ]
    }
   ],
   "source": [
    "# Test on 12/2023\n",
    "print(get_recommendations('AAPL'))\n",
    "print(get_recommendations('SHOP'))\n",
    "\n",
    "print(get_recommendations('MO'))\n",
    "print(get_recommendations('CGC'))\n",
    "#underperform, buy, hold"
   ]
  },
  {
   "cell_type": "code",
   "execution_count": 5,
   "metadata": {},
   "outputs": [],
   "source": [
    "class StockPriceCheckInput(BaseModel):\n",
    "    \"\"\"Input to check Stock price.\"\"\"\n",
    "\n",
    "    stock_ticker: str = Field(description=\"Ticker symbol for stock\")"
   ]
  },
  {
   "cell_type": "code",
   "execution_count": 6,
   "metadata": {},
   "outputs": [],
   "source": [
    "class StockPriceTool(BaseTool):\n",
    "    name = \"get_stock_price\"\n",
    "    description = \"\"\"\n",
    "    Useful to find the stock price of a company and also suggest to buy number of stocks if asked. You should input the stock ticker which is used by yahoo finance API\n",
    "    \"\"\"\n",
    "    \n",
    "    def _run(self, stock_ticker: str):\n",
    "        stock_price = get_stock_price(stock_ticker)\n",
    "        return stock_price\n",
    "\n",
    "    def _arun(self, stock_ticker: str):\n",
    "        raise NotImplementedError()  \n",
    "    \n",
    "    args_schema: Optional[Type[BaseModel]] = StockPriceCheckInput   "
   ]
  },
  {
   "cell_type": "code",
   "execution_count": 7,
   "metadata": {},
   "outputs": [],
   "source": [
    "class RecommendationStockInput(BaseModel):\n",
    "    \"\"\"Input to the stock recommendations\"\"\"\n",
    "\n",
    "    recommend_stock_ticker: str = Field(description=\"Ticker symbol for stock\")"
   ]
  },
  {
   "cell_type": "code",
   "execution_count": 8,
   "metadata": {},
   "outputs": [],
   "source": [
    "class RecommendationStockTool(BaseTool):\n",
    "    name = \"get_recommendations\"\n",
    "    description = \"Useful to find recommendations to buy, hold if you have stocks or not to buy, You should input the stock ticker which is used by yahoo finance API\"\n",
    "    \n",
    "    def _run(self, recommend_stock_ticker: str):\n",
    "        stock_recommended_to_buy = get_recommendations(recommend_stock_ticker)\n",
    "        return stock_recommended_to_buy\n",
    "\n",
    "    def _arun(self, recommend_stock_ticker: str):\n",
    "        raise NotImplementedError()  \n",
    "    \n",
    "    args_schema: Optional[Type[BaseModel]] = RecommendationStockInput   "
   ]
  },
  {
   "cell_type": "markdown",
   "metadata": {},
   "source": [
    "### Tools as openAI functions"
   ]
  },
  {
   "cell_type": "code",
   "execution_count": 9,
   "metadata": {},
   "outputs": [],
   "source": [
    "stock_tools = [StockPriceTool(), RecommendationStockTool()]\n",
    "functions = [format_tool_to_openai_function(fun) for fun in stock_tools]"
   ]
  },
  {
   "cell_type": "code",
   "execution_count": 10,
   "metadata": {},
   "outputs": [
    {
     "data": {
      "text/plain": [
       "[{'name': 'get_stock_price',\n",
       "  'description': '\\n    Useful to find the stock price of a company and also suggest to buy number of stocks if asked. You should input the stock ticker which is used by yahoo finance API\\n    ',\n",
       "  'parameters': {'description': 'Input to check Stock price.',\n",
       "   'properties': {'stock_ticker': {'description': 'Ticker symbol for stock',\n",
       "     'title': 'Stock Ticker',\n",
       "     'type': 'string'}},\n",
       "   'required': ['stock_ticker'],\n",
       "   'title': 'StockPriceCheckInput',\n",
       "   'type': 'object'}},\n",
       " {'name': 'get_recommendations',\n",
       "  'description': 'Useful to find recommendations to buy, hold if you have stocks or not to buy, You should input the stock ticker which is used by yahoo finance API',\n",
       "  'parameters': {'description': 'Input to the stock recommendations',\n",
       "   'properties': {'recommend_stock_ticker': {'description': 'Ticker symbol for stock',\n",
       "     'title': 'Recommend Stock Ticker',\n",
       "     'type': 'string'}},\n",
       "   'required': ['recommend_stock_ticker'],\n",
       "   'title': 'RecommendationStockInput',\n",
       "   'type': 'object'}}]"
      ]
     },
     "execution_count": 10,
     "metadata": {},
     "output_type": "execute_result"
    }
   ],
   "source": [
    "functions"
   ]
  },
  {
   "cell_type": "markdown",
   "metadata": {},
   "source": [
    "### Langchain Agent"
   ]
  },
  {
   "cell_type": "code",
   "execution_count": 31,
   "metadata": {},
   "outputs": [],
   "source": [
    "llm = ChatOpenAI( api_key=os.environ['API_Key'], \n",
    "                   temperature=0 )\n",
    "\n",
    "open_ai_agent = initialize_agent(tools=stock_tools, \n",
    "                                 model = 'gpt-3.5-turbo',\n",
    "                                 llm=llm, \n",
    "                                 agent=AgentType.OPENAI_MULTI_FUNCTIONS, \n",
    "                                 verbose=True)"
   ]
  },
  {
   "cell_type": "markdown",
   "metadata": {},
   "source": [
    "### Get stock price.\n",
    "LLM's are smart to convert company name to stock ticker"
   ]
  },
  {
   "cell_type": "code",
   "execution_count": 12,
   "metadata": {},
   "outputs": [
    {
     "name": "stdout",
     "output_type": "stream",
     "text": [
      "\n",
      "\n",
      "\u001b[1m> Entering new AgentExecutor chain...\u001b[0m\n",
      "\u001b[32;1m\u001b[1;3m\n",
      "Invoking: `get_stock_price` with `{'stock_ticker': 'AMZN'}`\n",
      "\n",
      "\n",
      "\u001b[0m\u001b[36;1m\u001b[1;3m153.42\u001b[0m\u001b[32;1m\u001b[1;3mThe latest price of Amazon stock is $153.42.\u001b[0m\n",
      "\n",
      "\u001b[1m> Finished chain.\u001b[0m\n"
     ]
    },
    {
     "data": {
      "text/plain": [
       "'The latest price of Amazon stock is $153.42.'"
      ]
     },
     "execution_count": 12,
     "metadata": {},
     "output_type": "execute_result"
    }
   ],
   "source": [
    "agent_results = open_ai_agent.run(\"what is the latest price of Amazon stock\")\n",
    "agent_results"
   ]
  },
  {
   "cell_type": "markdown",
   "metadata": {},
   "source": [
    "### Get recommendation from LLM to buy a stock.\n",
    "LLM's will be using yahoo finance api's recommendation"
   ]
  },
  {
   "cell_type": "code",
   "execution_count": 14,
   "metadata": {},
   "outputs": [
    {
     "name": "stdout",
     "output_type": "stream",
     "text": [
      "\n",
      "\n",
      "\u001b[1m> Entering new AgentExecutor chain...\u001b[0m\n",
      "\u001b[32;1m\u001b[1;3m\n",
      "Invoking: `get_stock_price` with `{'stock_ticker': 'CGC'}`\n",
      "\n",
      "\n",
      "\u001b[0m\u001b[36;1m\u001b[1;3m5.14\u001b[0m\u001b[32;1m\u001b[1;3m\n",
      "Invoking: `get_recommendations` with `{'recommend_stock_ticker': 'CGC'}`\n",
      "\n",
      "\n",
      "\u001b[0m\u001b[33;1m\u001b[1;3munderperform\u001b[0m\u001b[32;1m\u001b[1;3mThe latest price of Canopy Growth stock (CGC) is $5.14. However, the recommendation for this stock is \"underperform\", which means it is not recommended to buy at the moment.\u001b[0m\n",
      "\n",
      "\u001b[1m> Finished chain.\u001b[0m\n"
     ]
    },
    {
     "data": {
      "text/plain": [
       "'The latest price of Canopy Growth stock (CGC) is $5.14. However, the recommendation for this stock is \"underperform\", which means it is not recommended to buy at the moment.'"
      ]
     },
     "execution_count": 14,
     "metadata": {},
     "output_type": "execute_result"
    }
   ],
   "source": [
    "agent_results = open_ai_agent.run(\"what is the latest price of Canopy Growth stock, is it recommended to buy ?\")\n",
    "agent_results"
   ]
  },
  {
   "cell_type": "markdown",
   "metadata": {},
   "source": [
    "### Number of stocks you can buy\n",
    "Check to see if LLM can suggest the number of stocks to buy"
   ]
  },
  {
   "cell_type": "code",
   "execution_count": 32,
   "metadata": {},
   "outputs": [
    {
     "name": "stdout",
     "output_type": "stream",
     "text": [
      "\n",
      "\n",
      "\u001b[1m> Entering new AgentExecutor chain...\u001b[0m\n",
      "\u001b[32;1m\u001b[1;3m\n",
      "Invoking: `get_stock_price` with `{'stock_ticker': 'AAPL'}`\n",
      "\n",
      "\n",
      "\u001b[0m\u001b[36;1m\u001b[1;3m193.6\u001b[0m\u001b[32;1m\u001b[1;3m\n",
      "Invoking: `get_recommendations` with `{'recommend_stock_ticker': 'AAPL'}`\n",
      "\n",
      "\n",
      "\u001b[0m\u001b[33;1m\u001b[1;3mbuy\u001b[0m\u001b[32;1m\u001b[1;3mThe current price of Apple stock (AAPL) is $193.6. With an investment of $5000, you can buy approximately 25.84 shares of Apple stock.\n",
      "\n",
      "As for the recommendation, the tool suggests buying Apple stock.\u001b[0m\n",
      "\n",
      "\u001b[1m> Finished chain.\u001b[0m\n"
     ]
    },
    {
     "data": {
      "text/plain": [
       "'The current price of Apple stock (AAPL) is $193.6. With an investment of $5000, you can buy approximately 25.84 shares of Apple stock.\\n\\nAs for the recommendation, the tool suggests buying Apple stock.'"
      ]
     },
     "execution_count": 32,
     "metadata": {},
     "output_type": "execute_result"
    }
   ],
   "source": [
    "agent_results = open_ai_agent.run(\"I am planning to invest $5000 in apple stock, how may stocks can I buy and is it recommended to invest in apple stocks\")\n",
    "agent_results"
   ]
  },
  {
   "cell_type": "code",
   "execution_count": 35,
   "metadata": {},
   "outputs": [
    {
     "name": "stdout",
     "output_type": "stream",
     "text": [
      "The current price of Canopy Growth stock (CGC) is $5.14. With an investment of $1000, you can buy approximately 194 stocks (1000 / 5.14 = 194.17).\n",
      "\n",
      "As for the recommendation, the stock is currently rated as \"underperform\". It is important to consider this information before making any investment decisions.\n"
     ]
    }
   ],
   "source": [
    "print(agent_results)"
   ]
  },
  {
   "cell_type": "markdown",
   "metadata": {},
   "source": [
    "### Invest money and check how may stock to buy"
   ]
  },
  {
   "cell_type": "code",
   "execution_count": 36,
   "metadata": {},
   "outputs": [
    {
     "name": "stdout",
     "output_type": "stream",
     "text": [
      "\n",
      "\n",
      "\u001b[1m> Entering new AgentExecutor chain...\u001b[0m\n",
      "\u001b[32;1m\u001b[1;3m\n",
      "Invoking: `get_stock_price` with `{'stock_ticker': 'AAPL'}`\n",
      "\n",
      "\n",
      "\u001b[0m\u001b[36;1m\u001b[1;3m193.6\u001b[0m\u001b[32;1m\u001b[1;3mThe current price of Apple stock is $193.6. To calculate how many stocks you can buy with $5000, divide the total amount by the stock price:\n",
      "\n",
      "$5000 / $193.6 = 25.84\n",
      "\n",
      "Since you cannot buy a fraction of a stock, you can buy a maximum of 25 shares of Apple stock with $5000.\u001b[0m\n",
      "\n",
      "\u001b[1m> Finished chain.\u001b[0m\n"
     ]
    }
   ],
   "source": [
    "agent_results = open_ai_agent.run(\"I am planning to invest $5000 in apple stock, how may stocks can I buy ? \")"
   ]
  },
  {
   "cell_type": "code",
   "execution_count": 38,
   "metadata": {},
   "outputs": [
    {
     "name": "stdout",
     "output_type": "stream",
     "text": [
      "The current price of Apple stock is $193.6. To calculate how many stocks you can buy with $5000, divide the total amount by the stock price:\n",
      "\n",
      "$5000 / $193.6 = 25.84\n",
      "\n",
      "Since you cannot buy a fraction of a stock, you can buy a maximum of 25 shares of Apple stock with $5000.\n"
     ]
    }
   ],
   "source": [
    "print(agent_results)"
   ]
  },
  {
   "cell_type": "markdown",
   "metadata": {},
   "source": [
    "### Try to buy underperformed stock"
   ]
  },
  {
   "cell_type": "code",
   "execution_count": 40,
   "metadata": {},
   "outputs": [
    {
     "name": "stdout",
     "output_type": "stream",
     "text": [
      "\n",
      "\n",
      "\u001b[1m> Entering new AgentExecutor chain...\u001b[0m\n",
      "\u001b[32;1m\u001b[1;3m\n",
      "Invoking: `get_stock_price` with `{'stock_ticker': 'CGC'}`\n",
      "\n",
      "\n",
      "\u001b[0m\u001b[36;1m\u001b[1;3m5.14\u001b[0m\u001b[32;1m\u001b[1;3m\n",
      "Invoking: `get_recommendations` with `{'recommend_stock_ticker': 'CGC'}`\n",
      "\n",
      "\n",
      "\u001b[0m\u001b[33;1m\u001b[1;3munderperform\u001b[0m\u001b[32;1m\u001b[1;3mThe current price of Canopy Growth stock (CGC) is $5.14. With an investment of $1000, you can buy approximately 194 stocks (1000 / 5.14 = 194.17).\n",
      "\n",
      "As for the recommendation, the stock is currently rated as \"underperform\". It is important to consider this information before making any investment decisions.\u001b[0m\n",
      "\n",
      "\u001b[1m> Finished chain.\u001b[0m\n"
     ]
    },
    {
     "data": {
      "text/plain": [
       "'The current price of Canopy Growth stock (CGC) is $5.14. With an investment of $1000, you can buy approximately 194 stocks (1000 / 5.14 = 194.17).\\n\\nAs for the recommendation, the stock is currently rated as \"underperform\". It is important to consider this information before making any investment decisions.'"
      ]
     },
     "execution_count": 40,
     "metadata": {},
     "output_type": "execute_result"
    }
   ],
   "source": [
    "agent_results = open_ai_agent.run(\"I am planning to invest $1000 in Canopy Growth stock, how may stocks can I buy and is it recommended to invest in these stocks\")\n",
    "agent_results"
   ]
  },
  {
   "cell_type": "code",
   "execution_count": 41,
   "metadata": {},
   "outputs": [
    {
     "name": "stdout",
     "output_type": "stream",
     "text": [
      "The current price of Canopy Growth stock (CGC) is $5.14. With an investment of $1000, you can buy approximately 194 stocks (1000 / 5.14 = 194.17).\n",
      "\n",
      "As for the recommendation, the stock is currently rated as \"underperform\". It is important to consider this information before making any investment decisions.\n"
     ]
    }
   ],
   "source": [
    "print(agent_results)"
   ]
  }
 ],
 "metadata": {
  "kernelspec": {
   "display_name": "gorlenv",
   "language": "python",
   "name": "python3"
  },
  "language_info": {
   "codemirror_mode": {
    "name": "ipython",
    "version": 3
   },
   "file_extension": ".py",
   "mimetype": "text/x-python",
   "name": "python",
   "nbconvert_exporter": "python",
   "pygments_lexer": "ipython3",
   "version": "3.11.3"
  }
 },
 "nbformat": 4,
 "nbformat_minor": 2
}
