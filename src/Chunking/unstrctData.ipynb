{
 "cells": [
  {
   "cell_type": "code",
   "execution_count": 9,
   "metadata": {},
   "outputs": [],
   "source": [
    "from unstructured.partition.html import partition_html\n",
    "import json"
   ]
  },
  {
   "cell_type": "code",
   "execution_count": 8,
   "metadata": {},
   "outputs": [],
   "source": [
    "cnn_url = 'https://lite.cnn.com/'\n",
    "elements = partition_html(url=cnn_url)\n",
    "\n",
    "link = []\n",
    "link_title = []\n",
    "\n",
    "for element in elements:\n",
    "    if element.metadata.link_urls:\n",
    "        relative_link = element.metadata.link_urls[0][1:]\n",
    "        if relative_link.startswith(\"2024\"):\n",
    "            link.append(f\"{cnn_url} {relative_link}\")"
   ]
  },
  {
   "cell_type": "code",
   "execution_count": 26,
   "metadata": {},
   "outputs": [
    {
     "name": "stdout",
     "output_type": "stream",
     "text": [
      "[\n",
      "  {\n",
      "    \"type\": \"Title\",\n",
      "    \"element_id\": \"1f3d47dacc1a19a5efa22ac27d6936dc\",\n",
      "    \"text\": \"CNN\",\n",
      "    \"metadata\": {\n",
      "      \"category_depth\": 0,\n",
      "      \"link_texts\": [\n",
      "        \"CNN\"\n",
      "      ],\n",
      "      \"link_urls\": [\n",
      "        \"/\"\n",
      "      ],\n",
      "      \"page_number\": 1,\n",
      "      \"languages\": [\n",
      "        \"eng\"\n",
      "      ],\n",
      "      \"url\": \"https://lite.cnn.com/\",\n",
      "      \"filetype\": \"text/html\"\n",
      "    }\n",
      "  },\n",
      "  {\n",
      "    \"type\": \"UncategorizedText\",\n",
      "    \"element_id\": \"5884501e2680b12e2cd35fc804d3d256\",\n",
      "    \"text\": \"4/15/2024\",\n",
      "    \"metadata\": {\n",
      "      \"emphasized_text_contents\": [\n",
      "        \"4/15/2024\"\n",
      "      ],\n",
      "      \"emphasized_text_tags\": [\n",
      "        \"span\"\n",
      "      ],\n",
      "      \"page_number\": 1,\n",
      "      \"languages\": [\n",
      "        \"eng\"\n",
      "      ],\n",
      "      \"parent_id\": \"1f3d47dacc1a19a5efa22ac27d6936dc\",\n",
      "      \"url\": \"https://lite.cnn.com/\",\n",
      "      \"filetype\": \"text/html\"\n",
      "    }\n",
      "  },\n",
      "  {\n",
      "    \"type\": \"Title\",\n",
      "    \"element_id\": \"ffe64c4e9aa6dea6995182ea64dad2ad\",\n",
      "    \"text\": \"Latest Stories\",\n",
      "    \"metadata\": {\n",
      "      \"category_depth\": 0,\n",
      "      \"page_number\": 1,\n",
      "      \"languages\": [\n",
      "        \"eng\"\n",
      "      ],\n",
      "      \"url\": \"https://lite.cnn.com/\",\n",
      "      \"filetype\": \"text/html\"\n",
      "    }\n",
      "  },\n",
      "  {\n",
      "    \"type\": \"ListItem\",\n",
      "    \"element_id\": \"fc1fe479b0e992e3f3229c2f86e91605\",\n",
      "    \"text\": \"Johnson makes his long-awaited move on Ukraine as House plans to vote on separate aid packages\",\n",
      "    \"metadata\": {\n",
      "      \"category_depth\": 1,\n",
      "      \"link_texts\": [\n",
      "        \"\\n        Johnson makes his long-awaited move on Ukraine as House plans to vote on separate aid packages\\n    \"\n",
      "      ],\n",
      "      \"link_urls\": [\n",
      "        \"/2024/04/15/politics/house-republicans-israel-ukraine-iran/index.html\"\n",
      "      ],\n",
      "      \"page_number\": 1,\n",
      "      \"languages\": [\n",
      "        \"eng\"\n",
      "      ],\n",
      "      \"parent_id\": \"ffe64c4e9aa6dea6995182ea64dad2ad\",\n",
      "      \"url\": \"https://lite.cnn.com/\",\n",
      "      \"filetype\": \"text/html\"\n",
      "    }\n",
      "  },\n",
      "  {\n",
      "    \"type\": \"ListItem\",\n",
      "    \"element_id\": \"a836d1bde0db8a675ee59a64ec40247f\",\n",
      "    \"text\": \"WNBA draft: Caitlin Clark selected No. 1 by Indiana Fever, while Kamilla Cardoso and Angel Reese are teaming up in Chicago\",\n",
      "    \"metadata\": {\n",
      "      \"category_depth\": 1,\n",
      "      \"link_texts\": [\n",
      "        \"\\n        WNBA draft: Caitlin Clark selected No. 1 by Indiana Fever, while Kamilla Cardoso and Angel Reese are teaming up in Chicago\\n    \"\n",
      "      ],\n",
      "      \"link_urls\": [\n",
      "        \"/2024/04/15/sport/wnba-draft-2024-spt-intl/index.html\"\n",
      "      ],\n",
      "      \"page_number\": 1,\n",
      "      \"languages\": [\n",
      "        \"eng\"\n",
      "      ],\n",
      "      \"parent_id\": \"ffe64c4e9aa6dea6995182ea64dad2ad\",\n",
      "      \"url\": \"https://lite.cnn.com/\",\n",
      "      \"filetype\": \"text/html\"\n",
      "    }\n",
      "  }\n",
      "]\n"
     ]
    }
   ],
   "source": [
    "# convert to json object\n",
    "\n",
    "element_dict = [el.to_dict() for el in elements]\n",
    "\n",
    "json_output = json.dumps(element_dict[:5], indent=2)\n",
    "print(json_output)\n"
   ]
  },
  {
   "cell_type": "code",
   "execution_count": 24,
   "metadata": {},
   "outputs": [
    {
     "name": "stdout",
     "output_type": "stream",
     "text": [
      "{\n",
      "  \"element_id\": \"5884501e2680b12e2cd35fc804d3d256\",\n",
      "  \"metadata\": {\n",
      "    \"emphasized_text_contents\": [\n",
      "      \"4/15/2024\"\n",
      "    ],\n",
      "    \"emphasized_text_tags\": [\n",
      "      \"span\"\n",
      "    ],\n",
      "    \"filetype\": \"text/html\",\n",
      "    \"languages\": [\n",
      "      \"eng\"\n",
      "    ],\n",
      "    \"page_number\": 1,\n",
      "    \"parent_id\": \"1f3d47dacc1a19a5efa22ac27d6936dc\",\n",
      "    \"url\": \"https://lite.cnn.com/\"\n",
      "  },\n",
      "  \"text\": \"4/15/2024\",\n",
      "  \"type\": \"UncategorizedText\"\n",
      "}\n"
     ]
    }
   ],
   "source": [
    "for el in elements:\n",
    "    if el.metadata.parent_id == '1f3d47dacc1a19a5efa22ac27d6936dc':\n",
    "        print(json.dumps(el.to_dict(), indent=2, sort_keys=True))"
   ]
  },
  {
   "cell_type": "code",
   "execution_count": null,
   "metadata": {},
   "outputs": [],
   "source": []
  }
 ],
 "metadata": {
  "kernelspec": {
   "display_name": "invtenv",
   "language": "python",
   "name": "python3"
  },
  "language_info": {
   "codemirror_mode": {
    "name": "ipython",
    "version": 3
   },
   "file_extension": ".py",
   "mimetype": "text/x-python",
   "name": "python",
   "nbconvert_exporter": "python",
   "pygments_lexer": "ipython3",
   "version": "3.11.3"
  }
 },
 "nbformat": 4,
 "nbformat_minor": 2
}
